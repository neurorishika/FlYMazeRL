{
 "cells": [
  {
   "cell_type": "code",
   "execution_count": 1,
   "metadata": {},
   "outputs": [],
   "source": [
    "import numpy as np\n",
    "import pandas as pd\n",
    "import os"
   ]
  },
  {
   "cell_type": "code",
   "execution_count": 62,
   "metadata": {},
   "outputs": [],
   "source": [
    "df = pd.read_csv('model_description_mohanta.csv')\n",
    "# find the index of the row with the variant == 'acceptreject'\n",
    "acceptreject_index = df[df['Variant'] == 'acceptreject'].index\n",
    "file_list = []\n",
    "for i in range(len(df)):\n",
    "    if not i in acceptreject_index:\n",
    "        file_list.append(\"None\")\n",
    "    else:\n",
    "        SHORTCODE = df.loc[i, 'SHORTCODE']\n",
    "        data_dir = \"../FlYMazeRL_Fits/acceptreject/mohanta2022/\"\n",
    "        files = os.listdir(data_dir)\n",
    "        files = [f for f in files if f.startswith(SHORTCODE) and f.endswith('.nc')]\n",
    "        if len(files) == 0:\n",
    "            files = \"None\"\n",
    "        else:\n",
    "            files = 'acceptreject/mohanta2022/' + files[0]\n",
    "            \n",
    "        file_list.append(files)\n",
    "df['FitDir'] = file_list.copy()\n",
    "df.to_csv('model_description_mohanta.csv', index=False)\n"
   ]
  }
 ],
 "metadata": {
  "kernelspec": {
   "display_name": "Python 3.9.7 ('base')",
   "language": "python",
   "name": "python3"
  },
  "language_info": {
   "codemirror_mode": {
    "name": "ipython",
    "version": 3
   },
   "file_extension": ".py",
   "mimetype": "text/x-python",
   "name": "python",
   "nbconvert_exporter": "python",
   "pygments_lexer": "ipython3",
   "version": "3.9.7"
  },
  "orig_nbformat": 4,
  "vscode": {
   "interpreter": {
    "hash": "ad2bdc8ecc057115af97d19610ffacc2b4e99fae6737bb82f5d7fb13d2f2c186"
   }
  }
 },
 "nbformat": 4,
 "nbformat_minor": 2
}
