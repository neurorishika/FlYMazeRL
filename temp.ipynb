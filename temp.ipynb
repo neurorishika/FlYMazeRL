{
 "cells": [
  {
   "cell_type": "code",
   "execution_count": 1,
   "metadata": {},
   "outputs": [],
   "source": [
    "import numpy as np\n",
    "import pandas as pd\n",
    "import os"
   ]
  },
  {
   "cell_type": "code",
   "execution_count": 2,
   "metadata": {},
   "outputs": [],
   "source": [
    "df = pd.read_csv('model_description_mohanta.csv')\n",
    "# find the index of the row with the variant == 'acceptreject'\n",
    "acceptreject_index = df[df['Variant'] == 'acceptreject'].index\n",
    "file_list = []\n",
    "for i in range(len(df)):\n",
    "    if not i in acceptreject_index:\n",
    "        file_list.append(\"None\")\n",
    "    else:\n",
    "        SHORTCODE = df.loc[i, 'SHORTCODE']\n",
    "        data_dir = \"../FlYMazeRL_Fits/acceptreject/mohanta2022/\"\n",
    "        files = os.listdir(data_dir)\n",
    "        files = [f for f in files if f.startswith(SHORTCODE) and f.endswith('.nc')]\n",
    "        if len(files) == 0:\n",
    "            files = \"None\"\n",
    "        else:\n",
    "            files = 'acceptreject/mohanta2022/' + files[0]\n",
    "            \n",
    "        file_list.append(files)\n",
    "df['FitDir'] = file_list.copy()\n",
    "df.to_csv('model_description_mohanta.csv', index=False)\n"
   ]
  },
  {
   "cell_type": "code",
   "execution_count": 5,
   "metadata": {},
   "outputs": [
    {
     "data": {
      "text/plain": [
       "7      acceptreject/mohanta2022/RBR_2022_09_28_14_47_...\n",
       "8      acceptreject/mohanta2022/RBR_2022_09_28_14_47_...\n",
       "9      acceptreject/mohanta2022/RBR_2022_09_28_14_47_...\n",
       "17     acceptreject/mohanta2022/FRBR_2022_09_29_01_26...\n",
       "18     acceptreject/mohanta2022/FRBR_2022_09_29_01_26...\n",
       "                             ...                        \n",
       "482                                                 None\n",
       "483                                                 None\n",
       "484                                                 None\n",
       "485                                                 None\n",
       "486                                                 None\n",
       "Name: FitDir, Length: 134, dtype: object"
      ]
     },
     "execution_count": 5,
     "metadata": {},
     "output_type": "execute_result"
    }
   ],
   "source": [
    "df[df['Variant']=='acceptreject']['FitDir']"
   ]
  },
  {
   "cell_type": "code",
   "execution_count": 21,
   "metadata": {},
   "outputs": [
    {
     "data": {
      "text/plain": [
       "(array([0.        , 0.        , 0.01441613, 0.01403032, 0.01205782,\n",
       "        0.01035157, 0.00919415, 0.00762376, 0.0070858 , 0.00574363,\n",
       "        0.00503722, 0.00435799, 0.00385807, 0.00339619, 0.00284736,\n",
       "        0.        , 0.        , 0.        , 0.        , 0.        ]),\n",
       " array([  0.,  10.,  20.,  30.,  40.,  50.,  60.,  70.,  80.,  90., 100.,\n",
       "        110., 120., 130., 140., 150., 160., 170., 180., 190., 200.]),\n",
       " <BarContainer object of 20 artists>)"
      ]
     },
     "execution_count": 21,
     "metadata": {},
     "output_type": "execute_result"
    },
    {
     "data": {
      "image/png": "[encoded data removed]",
      "text/plain": [
       "<Figure size 432x288 with 1 Axes>"
      ]
     },
     "metadata": {
      "needs_background": "light"
     },
     "output_type": "display_data"
    }
   ],
   "source": [
    "import numpy as np\n",
    "import matplotlib.pyplot as plt\n",
    "\n",
    "samples1 = np.random.geometric(p=0.013, size=10000)\n",
    "samples2 = np.random.geometric(p=0.01, size=10000)\n",
    "samples3 = np.random.geometric(p=0.02, size=10000)\n",
    "\n",
    "# join the samples\n",
    "samples = np.concatenate((samples1, samples2, samples3))\n",
    "# everything more than 150 is set to 150\n",
    "samples=samples[samples < 150]\n",
    "# everything less than 15 is set to 15\n",
    "samples = samples[samples > 20]\n",
    "\n",
    "# plot the histogram\n",
    "plt.hist(samples, bins=np.linspace(0, 200, 21), density=True)"
   ]
  },
  {
   "cell_type": "code",
   "execution_count": null,
   "metadata": {},
   "outputs": [],
   "source": []
  }
 ],
 "metadata": {
  "kernelspec": {
   "display_name": "Python 3.9.7 ('base')",
   "language": "python",
   "name": "python3"
  },
  "language_info": {
   "codemirror_mode": {
    "name": "ipython",
    "version": 3
   },
   "file_extension": ".py",
   "mimetype": "text/x-python",
   "name": "python",
   "nbconvert_exporter": "python",
   "pygments_lexer": "ipython3",
   "version": "3.9.7"
  },
  "orig_nbformat": 4,
  "vscode": {
   "interpreter": {
    "hash": "ad2bdc8ecc057115af97d19610ffacc2b4e99fae6737bb82f5d7fb13d2f2c186"
   }
  }
 },
 "nbformat": 4,
 "nbformat_minor": 2
}
