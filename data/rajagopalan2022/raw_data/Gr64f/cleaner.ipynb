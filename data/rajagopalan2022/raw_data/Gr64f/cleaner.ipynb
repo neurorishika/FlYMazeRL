{
 "cells": [
  {
   "cell_type": "code",
   "execution_count": 3,
   "metadata": {},
   "outputs": [],
   "source": [
    "import numpy as np\n",
    "import os\n",
    "from scipy.io import loadmat\n",
    "import matplotlib.pyplot as plt"
   ]
  },
  {
   "cell_type": "code",
   "execution_count": 4,
   "metadata": {},
   "outputs": [
    {
     "name": "stderr",
     "output_type": "stream",
     "text": [
      "c:\\ProgramData\\Anaconda3\\lib\\site-packages\\scipy\\io\\matlab\\mio.py:226: MatReadWarning: Duplicate variable name \"None\" in stream - replacing previous with new\n",
      "Consider mio5.varmats_from_mat to split file into single variable files\n",
      "  matfile_dict = MR.get_variables(variable_names)\n"
     ]
    },
    {
     "name": "stdout",
     "output_type": "stream",
     "text": [
      "Train 0 20200617T114331_Y-Arena1_Cam0BR_V2_64f_Fly4 0.89 0.11 0.67\n",
      "Train 1 20200617T142343_Y-Arena1_Cam0BR_V2_64f_Fly5 0.8 0.11 0.89\n",
      "Train 2 20200620T132517_Y-Arena1_Cam0BR_V2_64f_Fly12 0.2 0.8 0.33\n",
      "Test Set 20200623T111945_Y-Arena1_Cam0BR_V2_64f_Fly15 142\n",
      "Test 0 20200623T111945_Y-Arena1_Cam0BR_V2_64f_Fly15 0.2 0.8 0.33\n",
      "Train 3 20200623T150218_Y-Arena1_Cam0BR_V2_64f_Fly16 0.5 0.89 0.2\n",
      "Train 4 20200624T134618_Y-Arena1_Cam0BR_V2_64f_Fly18 0.2 0.8 0.89\n",
      "Train 5 20210324T085138_Y-Arena1_Cam0BR_V2_gr64f_Fly1_round2 0.67 0.33 0.89\n",
      "Train 6 20210324T144413_Y-Arena1_Cam0BR_V2_gr64f_Fly3_round2 0.5 0.67 0.2\n",
      "Train 7 20210324T173338_Y-Arena1_Cam0BR_V2_gr64f_Fly4_round2 0.33 0.5 0.67\n",
      "Test Set 20210410T112739_Y-Arena1_Cam0BR_V2_gr64f_Fly5_round2 171\n",
      "Test 1 20210410T112739_Y-Arena1_Cam0BR_V2_gr64f_Fly5_round2 0.33 0.5 0.67\n",
      "Train 8 20210410T182854_Y-Arena1_Cam0BR_V2_gr64f_Fly7_round2 0.2 0.67 0.8\n",
      "Train 9 20210412T105011_Y-Arena1_Cam0BR_V2_gr64f_Fly8_round2 0.67 0.2 0.5\n",
      "Train 10 20210413T132142_Y-Arena1_Cam0BR_V2_gr64f_Fly9_round2 0.5 0.89 0.33\n",
      "Train 11 20200715T141812_Y-Arena1_Cam0BR_V2_64f_Fly25 0.055 0.445 0.25\n",
      "Train 12 20200717T100639_Y-Arena1_Cam0BR_V2_64f_Fly30 0.445 0.055 0.333\n",
      "Train 13 20200717T142109_Y-Arena1_Cam0BR_V2_64f_Fly31 0.4 0.055 0.445\n",
      "Test Set 20200720T102324_Y-Arena1_Cam0BR_V2_64f_Fly34 185\n",
      "Test 2 20200720T102324_Y-Arena1_Cam0BR_V2_64f_Fly34 0.4 0.055 0.445\n",
      "Train 14 20200721T141229_Y-Arena1_Cam0BR_V2_64f_Fly35 0.333 0.167 0.445\n",
      "Train 15 20200722T101330_Y-Arena1_Cam0BR_V2_64f_Fly36 0.445 0.1 0.25\n",
      "Train 16 20200723T142915_Y-Arena1_Cam0BR_V2_64f_Fly39 0.25 0.445 0.1\n",
      "Train 17 20200804T141505_Y-Arena1_Cam0BR_V2_64f_Fly43 0.4 0.167 0.333\n"
     ]
    }
   ],
   "source": [
    "action_set = []\n",
    "reward_set = []\n",
    "\n",
    "test_action_set = []\n",
    "test_reward_set = []\n",
    "\n",
    "with open('../../train_log.csv','w') as f1, open('../../test_log.csv','w') as f2:\n",
    "    f1.write('FlyID,Session Name,p1,p2,p3,sum\\n')\n",
    "    f2.write('FlyID,Session Name,p1,p2,p3,sum\\n')\n",
    "    index1 = 0\n",
    "    index2 = 0\n",
    "    for i in os.listdir(\"Baited_Reward_V2_3Cont\"):\n",
    "        choice_mat = loadmat(os.path.join(\"Baited_Reward_V2_3Cont\", i, \"choice_order.mat\"))\n",
    "        reward_mat = loadmat(os.path.join(\"Baited_Reward_V2_3Cont\", i, \"reward_order.mat\"))\n",
    "        end = np.argmax(choice_mat[\"choice_order\"].T.flatten()==0)\n",
    "        if end == 0 or end > 200:\n",
    "            p1 = loadmat(os.path.join(\"Baited_Reward_V2_3Cont\", i, \"all_variables_contingency_1.mat\"))['x'].item()\n",
    "            p2 = loadmat(os.path.join(\"Baited_Reward_V2_3Cont\", i, \"all_variables_contingency_2.mat\"))['x'].item()\n",
    "            p3 = loadmat(os.path.join(\"Baited_Reward_V2_3Cont\", i, \"all_variables_contingency_3.mat\"))['x'].item()\n",
    "            choice = np.int32(choice_mat[\"choice_order\"].T.flatten()==2)[:200]\n",
    "            action_set.append(choice)\n",
    "            reward = np.int32(reward_mat['reward_order'].T.flatten()>0)[:200]\n",
    "            reward_set.append(reward)\n",
    "            f1.write(str(index1)+\",\"+i+\",\"+str(p1)+\",\"+str(p2)+\",\"+str(p3)+\",\"+str(1)+\"\\n\")\n",
    "            print(\"Train\",index1,i,p1,p2,p3)\n",
    "            index1 += 1\n",
    "        else:\n",
    "            print(\"Test Set\",i,end)\n",
    "            choice = np.nan*np.ones(200)\n",
    "            choice[:end] = np.int32(choice_mat[\"choice_order\"].T.flatten()==2)[:end]\n",
    "            test_action_set.append(choice)\n",
    "            reward = np.nan*np.ones(200)\n",
    "            reward[:end] = np.int32(reward_mat['reward_order'].T.flatten()>0)[:end]\n",
    "            test_reward_set.append(reward)\n",
    "            f2.write(str(index2)+\",\"+i+\",\"+str(p1)+\",\"+str(p2)+\",\"+str(p3)+\",\"+str(1)+\"\\n\")\n",
    "            print(\"Test\",index2,i,p1,p2,p3)\n",
    "            index2 += 1\n",
    "    \n",
    "    for i in os.listdir(\"Baited_Reward_V2_3Cont_Tp_0.5\"):\n",
    "        choice_mat = loadmat(os.path.join(\"Baited_Reward_V2_3Cont_Tp_0.5\", i, \"choice_order.mat\"))\n",
    "        reward_mat = loadmat(os.path.join(\"Baited_Reward_V2_3Cont_Tp_0.5\", i, \"reward_order.mat\"))\n",
    "        end = np.argmax(choice_mat[\"choice_order\"].T.flatten()==0)\n",
    "        if end == 0 or end > 200:\n",
    "            p1 = loadmat(os.path.join(\"Baited_Reward_V2_3Cont_Tp_0.5\", i, \"all_variables_contingency_1.mat\"))['x'].item()\n",
    "            p2 = loadmat(os.path.join(\"Baited_Reward_V2_3Cont_Tp_0.5\", i, \"all_variables_contingency_2.mat\"))['x'].item()\n",
    "            p3 = loadmat(os.path.join(\"Baited_Reward_V2_3Cont_Tp_0.5\", i, \"all_variables_contingency_3.mat\"))['x'].item()\n",
    "            choice = np.int32(choice_mat[\"choice_order\"].T.flatten()==2)[:200]\n",
    "            action_set.append(choice)\n",
    "            reward = np.int32(reward_mat['reward_order'].T.flatten()>0)[:200]\n",
    "            reward_set.append(reward)\n",
    "            f1.write(str(index1)+\",\"+i+\",\"+str(p1)+\",\"+str(p2)+\",\"+str(p3)+\",\"+str(0.5)+\"\\n\")\n",
    "            print(\"Train\",index1,i,p1,p2,p3)\n",
    "            index1 += 1\n",
    "        else:\n",
    "            print(\"Test Set\",i,end)\n",
    "            choice = np.nan*np.ones(200)\n",
    "            choice[:end] = np.int32(choice_mat[\"choice_order\"].T.flatten()==2)[:end]\n",
    "            test_action_set.append(choice)\n",
    "            reward = np.nan*np.ones(200)\n",
    "            reward[:end] = np.int32(reward_mat['reward_order'].T.flatten()>0)[:end]\n",
    "            test_reward_set.append(reward)\n",
    "            f2.write(str(index2)+\",\"+i+\",\"+str(p1)+\",\"+str(p2)+\",\"+str(p3)+\",\"+str(0.5)+\"\\n\")\n",
    "            print(\"Test\",index2,i,p1,p2,p3)\n",
    "            index2 += 1\n",
    "\n",
    "action_set = np.array(action_set)\n",
    "reward_set = np.array(reward_set)\n",
    "test_action_set = np.array(test_action_set)\n",
    "test_reward_set = np.array(test_reward_set)\n",
    "\n",
    "np.savetxt(\"../../training_choice_set.csv\", action_set, delimiter=\",\", fmt=\"%s\")\n",
    "np.savetxt(\"../../training_reward_set.csv\", reward_set, delimiter=\",\", fmt=\"%s\")\n",
    "np.savetxt(\"../../test_choice_set.csv\", test_action_set, delimiter=\",\", fmt=\"%s\")\n",
    "np.savetxt(\"../../test_reward_set.csv\", test_reward_set, delimiter=\",\", fmt=\"%s\")"
   ]
  }
 ],
 "metadata": {
  "kernelspec": {
   "display_name": "Python 3.9.7 ('base')",
   "language": "python",
   "name": "python3"
  },
  "language_info": {
   "codemirror_mode": {
    "name": "ipython",
    "version": 3
   },
   "file_extension": ".py",
   "mimetype": "text/x-python",
   "name": "python",
   "nbconvert_exporter": "python",
   "pygments_lexer": "ipython3",
   "version": "3.9.7"
  },
  "orig_nbformat": 4,
  "vscode": {
   "interpreter": {
    "hash": "ad2bdc8ecc057115af97d19610ffacc2b4e99fae6737bb82f5d7fb13d2f2c186"
   }
  }
 },
 "nbformat": 4,
 "nbformat_minor": 2
}
