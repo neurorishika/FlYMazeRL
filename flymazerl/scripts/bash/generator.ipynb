{
  "cells": [
    {
      "cell_type": "code",
      "execution_count": 1,
      "metadata": {},
      "outputs": [],
      "source": [
        "import os\n",
        "import stat"
      ]
    },
    {
      "cell_type": "code",
      "execution_count": 2,
      "metadata": {},
      "outputs": [],
      "source": [
        "for sym in [True, False]:\n",
        "    with open('GRNN_{}.sh'.format('sym' if sym else 'asym'), 'w') as f:\n",
        "        f.write(\"#!/bin/bash\\n\\n\")\n",
        "        for res_size in [2,3,5,10,100,200]:\n",
        "            for rep in range(1):\n",
        "                syms = \"yes\" if sym else \"no\"\n",
        "                string = f'bsub -n1 -J \"GRNNx{res_size}-{rep}-{int(sym)}\" -o \"GRNNx{res_size}-{rep}-{int(sym)}.output\" \"python ../nn_fitting_rajagopalan.py --agent GRNN --num_reservoir 1 --reservoir_size {res_size} --n_folds 1 --n_ensemble 5 --early_stopping 2500 --symmetric {syms} --save_path /groups/turner/turnerlab/Rishika/FlYMazeRL_Fits/nn/mohantas2022/ \"\\nsleep .5\\n'\n",
        "                f.write(string)\n",
        "    # Make the file executable\n",
        "    st = os.stat('GRNN_{}.sh'.format('sym' if sym else 'asym'))\n",
        "    os.chmod('GRNN_{}.sh'.format('sym' if sym else 'asym'), st.st_mode | stat.S_IEXEC | stat.S_IXGRP | stat.S_IXOTH)"
      ]
    },
    {
      "cell_type": "code",
      "execution_count": 3,
      "metadata": {},
      "outputs": [],
      "source": [
        "for sym in [True, False]:\n",
        "    with open('GQNN_{}.sh'.format('sym' if sym else 'asym'), 'w') as f:\n",
        "        f.write(\"#!/bin/bash\\n\\n\")\n",
        "        for res_size in [\"2\",\"5\",\"10\",\"2 2\",\"5 5\",\"10 10\",\"100 100\",\"10 10 10\",\"100 100 100\"]:\n",
        "            for rep in range(1):\n",
        "                syms = \"yes\" if sym else \"no\"\n",
        "                string = f'bsub -n1 -J \"GQNNx{res_size.replace(\" \",\"x\")}-{rep}-{int(sym)}\" -o \"GQNNx{res_size.replace(\" \",\"x\")}-{rep}-{int(sym)}.output\" \"python ../nn_fitting_rajagopalan.py --agent GQNN --hidden_state_sizes {res_size} --n_folds 1 --n_ensemble 5 --early_stopping 2500 --symmetric {syms} --save_path /groups/turner/turnerlab/Rishika/FlYMazeRL_Fits/nn/mohantas2022/ \"\\nsleep .5\\n'\n",
        "                f.write(string)\n",
        "    # Make the file executable\n",
        "    st = os.stat('GQNN_{}.sh'.format('sym' if sym else 'asym'))\n",
        "    os.chmod('GQNN_{}.sh'.format('sym' if sym else 'asym'), st.st_mode | stat.S_IEXEC | stat.S_IXGRP | stat.S_IXOTH)"
      ]
    },
    {
      "cell_type": "code",
      "execution_count": null,
      "metadata": {},
      "outputs": [],
      "source": []
    }
  ],
  "metadata": {
    "colab": {
      "collapsed_sections": [],
      "name": "LearningRules",
      "provenance": []
    },
    "kernelspec": {
      "display_name": "Python 3.9.7 ('flymazerl')",
      "language": "python",
      "name": "python3"
    },
    "language_info": {
      "codemirror_mode": {
        "name": "ipython",
        "version": 3
      },
      "file_extension": ".py",
      "mimetype": "text/x-python",
      "name": "python",
      "nbconvert_exporter": "python",
      "pygments_lexer": "ipython3",
      "version": "3.9.12"
    },
    "vscode": {
      "interpreter": {
        "hash": "97727a114667ed15117250b5fec8748dc40cf28e874283bb31e511af3ebb2b4c"
      }
    }
  },
  "nbformat": 4,
  "nbformat_minor": 0
}
