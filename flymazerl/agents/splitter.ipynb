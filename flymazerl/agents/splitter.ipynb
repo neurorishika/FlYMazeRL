{
 "cells": [
  {
   "cell_type": "code",
   "execution_count": 27,
   "metadata": {},
   "outputs": [],
   "source": [
    "# get model database\n",
    "import pandas as pd\n",
    "\n",
    "db = pd.read_csv('../../model_description.csv')\n",
    "\n",
    "# open the file classical.py as a list of lines\n",
    "with open('classical.py', 'r') as f:\n",
    "    lines = f.readlines()\n",
    "\n",
    "# copy the first 8 lines to a new list common\n",
    "common = lines[:8]\n",
    "\n",
    "# find all index of lines that start with 'class'\n",
    "startlines = [x for i, x in enumerate(lines) if x.startswith('class')]\n",
    "indices = [i for i, x in enumerate(lines) if x.startswith('class')]\n",
    "\n",
    "# find the word after the 'class' in each line\n",
    "agentclass = [x.split()[1].split('(')[0] for x in startlines]\n",
    "\n",
    "# remove the last four lines from the indices list and the agentclass list\n",
    "end = indices[-4]\n",
    "indices = indices[:-4]\n",
    "agentclass = agentclass[:-4]\n",
    "\n",
    "# split indices and agentclass into lists of length 5\n",
    "indices = [indices[i:i+5] for i in range(0, len(indices), 5)]\n",
    "agentclass = [agentclass[i:i+5] for i in range(0, len(agentclass), 5)]\n",
    "\n",
    "# add the start of the next list to the end of the previous list\n",
    "for i in range(len(indices)-1):\n",
    "    indices[i].append(indices[i+1][0])\n",
    "indices[-1].append(end)\n",
    "\n",
    "# run a loop over the indices list\n",
    "for i in range(len(indices)):\n",
    "    # find the agent class name\n",
    "    agentclassname = agentclass[i][1]\n",
    "    # find the agent class abbreviation from the model database\n",
    "    abv = db[db['AgentClass']==agentclassname]['ModelAbv'].values[0]\n",
    "    # remove -QL from the agent class abbreviation\n",
    "    abv = abv[:-3]\n",
    "    # make the abv name lowercase\n",
    "    abv = abv.lower()\n",
    "    # replace all '-' with '_' in the abv name\n",
    "    abv = abv.replace('-', '_')\n",
    "    # create a new file with the agent abv name and add the common lines\n",
    "    with open('qlearning/'+abv+'.py', 'w') as f:\n",
    "        f.writelines(common)\n",
    "        # add the lines between the first index to the last index of the current list\n",
    "        start_index = indices[i][0]\n",
    "        end_index = indices[i][-1]\n",
    "        f.writelines(lines[start_index:end_index])\n",
    "    \n",
    "# add a init.py file to the qlearning folder that imports all the agent files\n",
    "with open('qlearning/init.py', 'w') as f:\n",
    "    # add a line to import the agent files\n",
    "    for "
   ]
  }
 ],
 "metadata": {
  "kernelspec": {
   "display_name": "Python 3.9.7 ('base')",
   "language": "python",
   "name": "python3"
  },
  "language_info": {
   "codemirror_mode": {
    "name": "ipython",
    "version": 3
   },
   "file_extension": ".py",
   "mimetype": "text/x-python",
   "name": "python",
   "nbconvert_exporter": "python",
   "pygments_lexer": "ipython3",
   "version": "3.9.7"
  },
  "orig_nbformat": 4,
  "vscode": {
   "interpreter": {
    "hash": "ad2bdc8ecc057115af97d19610ffacc2b4e99fae6737bb82f5d7fb13d2f2c186"
   }
  }
 },
 "nbformat": 4,
 "nbformat_minor": 2
}
